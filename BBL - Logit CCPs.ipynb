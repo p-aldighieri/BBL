{
 "cells": [
  {
   "cell_type": "code",
   "execution_count": 4,
   "metadata": {
    "ExecuteTime": {
     "end_time": "2021-03-14T17:18:45.441844Z",
     "start_time": "2021-03-14T17:18:44.641038Z"
    }
   },
   "outputs": [],
   "source": [
    "import numpy as np\n",
    "import pandas as pd\n",
    "\n",
    "from sklearn import linear_model"
   ]
  },
  {
   "cell_type": "markdown",
   "metadata": {
    "heading_collapsed": true
   },
   "source": [
    "## Importing data"
   ]
  },
  {
   "cell_type": "code",
   "execution_count": 5,
   "metadata": {
    "ExecuteTime": {
     "end_time": "2021-03-14T17:18:45.461872Z",
     "start_time": "2021-03-14T17:18:45.456855Z"
    },
    "hidden": true
   },
   "outputs": [],
   "source": [
    "colunas = ['ANO_CINEMATOGRAFICO', 'SEMANA_CINEMATOGRAFICA', 'TIPO_SESSAO',\n",
    "       'REGISTRO_COMPLEXO', 'CPB_ROE', 'ASSENTOS_INFERIDO',\n",
    "       'OCUPAÇÃO_SALA_INFERIDA', 'd_t', 'id_NAC', 'xt_comp', 't_comp',\n",
    "       'OBG_FINAL_COMP', 'SALAS_COMP', 'DIA_abs', 'COMP_CUMPRIU', 'xt_frac',\n",
    "       'cump_frac', 'cpb_id', 'beta'] # all cols with defined dtypes (see below)\n",
    "\n",
    "remover = {'CPB_ROE','ASSENTOS_INFERIDO','TIPO_SESSAO','ANO_CINEMATOGRAFICO','d_t'} # cols to remove\n",
    "\n",
    "importar = list(set(colunas).difference(remover)) # cols to import"
   ]
  },
  {
   "cell_type": "code",
   "execution_count": 6,
   "metadata": {
    "ExecuteTime": {
     "end_time": "2021-03-14T17:18:51.723303Z",
     "start_time": "2021-03-14T17:18:45.477910Z"
    },
    "hidden": true
   },
   "outputs": [],
   "source": [
    "painel = pd.read_csv('Painel 2018 final.csv', dtype={\n",
    "    'ANO_CINEMATOGRAFICO':int, 'SEMANA_CINEMATOGRAFICA':int, 'REGISTRO_COMPLEXO':int,\n",
    "    'CPB_ROE':str, 'OCUPAÇÃO_SALA_INFERIDA':float, 'd_t':int, 'x_t':float,\n",
    "    'id_NAC':int, 'xt_comp':float, 't_comp':int, 'OBG_FINAL_COMP':float,\n",
    "    'SALAS_COMP':float, 'DIA_abs':int, 'COMP_CUMPRIU':bool, 'cpb_id':int, 'cump_frac':float, \n",
    "    'xt_frac':float, 'ASSENTOS_INFERIDO':int, 'TIPO_SESSAO':str, 'beta':float}, usecols=importar)"
   ]
  },
  {
   "cell_type": "markdown",
   "metadata": {},
   "source": [
    "## Defining regressors"
   ]
  },
  {
   "cell_type": "code",
   "execution_count": 7,
   "metadata": {
    "ExecuteTime": {
     "end_time": "2021-03-14T17:18:51.778423Z",
     "start_time": "2021-03-14T17:18:51.774413Z"
    }
   },
   "outputs": [],
   "source": [
    "reg_cols = ['xt_frac','DIA_abs', 'REGISTRO_COMPLEXO'] # defining regressors vector\n",
    "# xt_frac is the proportion of quota fulfillment up to time t\n",
    "# DIA_abs is the absolute day of the year (1,365)\n",
    "# REGISTRO_COMPLEXO is movie theater id\n",
    "\n",
    "dummies = list(set(reg_cols).difference({'xt_frac','ASSENTOS_INFERIDO'})) # getting categorical variables"
   ]
  },
  {
   "cell_type": "markdown",
   "metadata": {},
   "source": [
    "### One week only test"
   ]
  },
  {
   "cell_type": "code",
   "execution_count": 27,
   "metadata": {
    "ExecuteTime": {
     "end_time": "2021-03-14T17:26:04.635032Z",
     "start_time": "2021-03-14T17:26:04.504707Z"
    }
   },
   "outputs": [],
   "source": [
    "week = 52 # defining week\n",
    "\n",
    "y = painel.query(\"SEMANA_CINEMATOGRAFICA == @week\")['cpb_id'] # target is movie id, filtered from panel/week\n",
    "X = painel.query(\"SEMANA_CINEMATOGRAFICA == @week\")[reg_cols] # regressors defined above, filtered from panel/week"
   ]
  },
  {
   "cell_type": "code",
   "execution_count": 28,
   "metadata": {
    "ExecuteTime": {
     "end_time": "2021-03-14T17:26:07.446682Z",
     "start_time": "2021-03-14T17:26:07.178667Z"
    }
   },
   "outputs": [],
   "source": [
    "X = pd.get_dummies(\n",
    "    X, columns=dummies, drop_first=True) # getting dummies for categorical variables"
   ]
  },
  {
   "cell_type": "code",
   "execution_count": 29,
   "metadata": {
    "ExecuteTime": {
     "end_time": "2021-03-14T17:26:15.038509Z",
     "start_time": "2021-03-14T17:26:12.472137Z"
    }
   },
   "outputs": [],
   "source": [
    "for col in X.iloc[:,8:].columns:\n",
    "    X[f'{col}:xt_frac'] = X[col]*X['xt_frac'] # creating interaction between dummy vars and xt_frac"
   ]
  },
  {
   "cell_type": "code",
   "execution_count": 10,
   "metadata": {
    "ExecuteTime": {
     "end_time": "2021-03-14T16:43:43.005582Z",
     "start_time": "2021-03-14T14:15:47.816533Z"
    }
   },
   "outputs": [],
   "source": [
    "reg = linear_model.LogisticRegression(multi_class='multinomial', solver='sag', max_iter=500).fit(X.values,y.values) # model fit"
   ]
  },
  {
   "cell_type": "markdown",
   "metadata": {
    "heading_collapsed": true
   },
   "source": [
    "### Full panel regressions"
   ]
  },
  {
   "cell_type": "markdown",
   "metadata": {
    "heading_collapsed": true,
    "hidden": true
   },
   "source": [
    "#### First pass"
   ]
  },
  {
   "cell_type": "code",
   "execution_count": 10,
   "metadata": {
    "ExecuteTime": {
     "end_time": "2021-03-12T01:43:22.467890Z",
     "start_time": "2021-03-11T01:59:48.315508Z"
    },
    "collapsed": true,
    "hidden": true
   },
   "outputs": [
    {
     "name": "stdout",
     "output_type": "stream",
     "text": [
      "Iteration 0 started at Wed Mar 10 22:59:48 2021\n",
      "Iteration 1 started at Wed Mar 10 23:29:05 2021\n",
      "Iteration 2 started at Thu Mar 11 00:06:08 2021\n",
      "Iteration 3 started at Thu Mar 11 00:29:41 2021\n",
      "Iteration 4 started at Thu Mar 11 01:23:09 2021\n",
      "Iteration 5 started at Thu Mar 11 02:59:13 2021\n",
      "Iteration 6 started at Thu Mar 11 05:06:33 2021\n",
      "Iteration 7 started at Thu Mar 11 06:56:20 2021\n",
      "Iteration 8 started at Thu Mar 11 08:25:12 2021\n",
      "Iteration 9 started at Thu Mar 11 10:18:49 2021\n",
      "Iteration 10 started at Thu Mar 11 13:15:13 2021\n",
      "Iteration 11 started at Thu Mar 11 15:56:39 2021\n",
      "Iteration 12 started at Thu Mar 11 20:00:55 2021\n",
      "Iteration 13 started at Thu Mar 11 22:13:37 2021\n"
     ]
    },
    {
     "name": "stderr",
     "output_type": "stream",
     "text": [
      "C:\\ProgramData\\Anaconda3\\lib\\site-packages\\sklearn\\linear_model\\_sag.py:329: ConvergenceWarning: The max_iter was reached which means the coef_ did not converge\n",
      "  warnings.warn(\"The max_iter was reached which means \"\n"
     ]
    }
   ],
   "source": [
    "from joblib import Parallel, delayed # parallel processing with joblib\n",
    "\n",
    "import time \n",
    "\n",
    "simultaneous = 4\n",
    "\n",
    "r = 53 // simultaneous # defining range to loop over, each loop will process @simultaneous regressions at a time\n",
    "\n",
    "regs = {} # dict to store fitted models\n",
    "cols = {} # dict to store col names for each fitted model\n",
    "\n",
    "for n in range(r):\n",
    "    print(f'Iteration {n} started at {time.asctime(time.localtime())}') # time for iteration start\n",
    "    ar = {} # dict to store y (targets) and X (regressors) for each week of present iteration\n",
    "    \n",
    "    if (n*simultaneous + simultaneous) < 53: # guaranteeing number does not go over the number of weeks\n",
    "        i = simultaneous*n\n",
    "        sem_list = [i + j for j in range(simultanous)] # creating week list for present iteration\n",
    "        for sem in sem_list: # looping over weeks of present iteration\n",
    "            ar[f'y_{sem}'] = painel.query(\"SEMANA_CINEMATOGRAFICA == @sem\")['cpb_id'].values # get and store targets for each week\n",
    "            X = painel.query(\"SEMANA_CINEMATOGRAFICA == @sem\")[reg_cols] # getting regressors\n",
    "            num = X.DIA_abs.nunique() # no. of days of week (first and last week may be truncated)\n",
    "            X = pd.get_dummies(X, columns=dummies, drop_first=True) # getting dummies for categorical regressors\n",
    "    \n",
    "            for col in X.iloc[:,num:].columns: # creating interactions\n",
    "                X[f'{col}:xt_frac'] = X[col]*X['xt_frac']\n",
    "            cols[f'semana_{sem}'] = X.columns.values # storing col names\n",
    "            ar[f'X_{sem}'] = X.values # storing X (regressors for present week)\n",
    "        \n",
    "        # model fit for each week with multiprocessing, note that we start with only 100 max iters for efficiency reasons\n",
    "        regs[f'reg_{sem_list[0]}'], regs[f'reg_{sem_list[1]}'], regs[f'reg_{sem_list[2]}'], regs[f'reg_{sem_list[3]}'] = Parallel(\n",
    "            n_jobs = 4, backend='multiprocessing')(delayed(linear_model.LogisticRegression(\n",
    "        multi_class='multinomial', solver='sag', max_iter=100).fit)(ar[f'X_{s}'], ar[f'y_{s}']) for s in sem_list)\n",
    "        \n",
    "    else: # this else condition was adjusted for simultaneous = 4, if it is different, adjusts will be needed\n",
    "        sem = 52\n",
    "        y = painel.query(\"SEMANA_CINEMATOGRAFICA == @sem\")['cpb_id'].values\n",
    "        X = painel.query(\"SEMANA_CINEMATOGRAFICA == @sem\")[reg_cols]\n",
    "        num = X.DIA_abs.nunique()\n",
    "        X = pd.get_dummies(X, columns=dummies, drop_first=True)\n",
    "\n",
    "        for col in X.iloc[:,num:].columns:\n",
    "            X[f'{col}:xt_frac'] = X[col]*X['xt_frac']\n",
    "        cols[f'semana_{sem}'] = X.columns.values\n",
    "        \n",
    "        regs[f'reg_{sem}'] = linear_model.LogisticRegression(multi_class='multinomial', solver='sag', max_iter=100).fit(X.values,y)"
   ]
  },
  {
   "cell_type": "markdown",
   "metadata": {
    "heading_collapsed": true,
    "hidden": true
   },
   "source": [
    "#### Second pass"
   ]
  },
  {
   "cell_type": "code",
   "execution_count": 16,
   "metadata": {
    "ExecuteTime": {
     "end_time": "2021-03-12T17:01:20.964981Z",
     "start_time": "2021-03-12T17:01:20.960998Z"
    },
    "hidden": true
   },
   "outputs": [],
   "source": [
    "non_conv = [] # list to store models that didn't converge with 100 iters\n",
    "\n",
    "for k, v in regs.items(): # getting from dict\n",
    "    if v.n_iter_ == 100:\n",
    "        try:\n",
    "            non_conv.append(int(k[-2:])) # for weeks with two digits\n",
    "        except:\n",
    "            non_conv.append(int(k[-1])) # weeks with only one digit"
   ]
  },
  {
   "cell_type": "code",
   "execution_count": 27,
   "metadata": {
    "ExecuteTime": {
     "end_time": "2021-03-12T17:09:47.421764Z",
     "start_time": "2021-03-12T17:09:47.416711Z"
    },
    "hidden": true
   },
   "outputs": [],
   "source": [
    "# creating tuples from @non-conv list for loop\n",
    "\n",
    "b = 0 # start value\n",
    "regression = [] # list of tuples\n",
    "sim2 = 7 # no. of simultaneous processes in the second pass\n",
    "\n",
    "while True:\n",
    "    init = b # start slice index\n",
    "    end = init+sim2 # finish slice index\n",
    "    if end < len(non_conv)-1: # if slice index does not go over list max index\n",
    "        regression.append(tuple(non_conv[b:end])) # append tuple slice\n",
    "        b += sim2\n",
    "    else: # if slice goes over list index\n",
    "        regression.append(tuple(non_conv[b:]))\n",
    "        break"
   ]
  },
  {
   "cell_type": "code",
   "execution_count": 29,
   "metadata": {
    "ExecuteTime": {
     "end_time": "2021-03-12T17:10:27.021113Z",
     "start_time": "2021-03-12T17:10:27.016586Z"
    },
    "hidden": true
   },
   "outputs": [
    {
     "data": {
      "text/plain": [
       "4"
      ]
     },
     "execution_count": 29,
     "metadata": {},
     "output_type": "execute_result"
    }
   ],
   "source": [
    "len(regression) # checking no of tuples"
   ]
  },
  {
   "cell_type": "code",
   "execution_count": 31,
   "metadata": {
    "ExecuteTime": {
     "end_time": "2021-03-14T00:17:34.751177Z",
     "start_time": "2021-03-12T17:12:18.398367Z"
    },
    "hidden": true
   },
   "outputs": [
    {
     "name": "stdout",
     "output_type": "stream",
     "text": [
      "Iteration 1 started at Fri Mar 12 14:12:18 2021\n",
      "Iteration 2 started at Fri Mar 12 18:38:03 2021\n",
      "Iteration 3 started at Sat Mar 13 01:58:50 2021\n",
      "Iteration 4 started at Sat Mar 13 15:10:46 2021\n"
     ]
    }
   ],
   "source": [
    "count = 1\n",
    "\n",
    "# for details see first pass\n",
    "\n",
    "for tup in regression: # this is slighly modified from first pass, now we get tuples directly because weeks are now selected\n",
    "    print(f'Iteration {count} started at {time.asctime(time.localtime())}') # time iter start\n",
    "    count += 1\n",
    "    ar = {}\n",
    "    \n",
    "    for t in tup:\n",
    "        ar[f'y_{t}'] = painel.query(\"SEMANA_CINEMATOGRAFICA == @t\")['cpb_id'].values\n",
    "        X = painel.query(\"SEMANA_CINEMATOGRAFICA == @t\")[reg_cols]\n",
    "        num = X.DIA_abs.nunique()\n",
    "        X = pd.get_dummies(X, columns=dummies, drop_first=True)\n",
    "\n",
    "        for col in X.iloc[:,num:].columns: # note that we no longer store col names in cols dict\n",
    "            X[f'{col}:xt_frac'] = X[col]*X['xt_frac']\n",
    "        ar[f'X_{t}'] = X.values\n",
    "    \n",
    "    if len(tup) == sim2:\n",
    "        regs[f'reg_{tup[0]}'], regs[f'reg_{tup[1]}'], regs[f'reg_{tup[2]}'], regs[f'reg_{tup[3]}'], regs[f'reg_{tup[4]}'], regs[f'reg_{tup[5]}'], regs[f'reg_{tup[6]}'] = Parallel(\n",
    "            n_jobs = 5, backend='multiprocessing')(delayed(linear_model.LogisticRegression(\n",
    "        multi_class='multinomial', solver='sag', max_iter=500).fit)(ar[f'X_{s}'], ar[f'y_{s}']) for s in tup)\n",
    "        \n",
    "    if len(tup) == 4: # this was adjusted for a 4 left-over tuple, adjustments are required according to @sim2 value\n",
    "        regs[f'reg_{tup[0]}'], regs[f'reg_{tup[1]}'], regs[f'reg_{tup[2]}'], regs[f'reg_{tup[3]}'] = Parallel(\n",
    "            n_jobs = 4, backend='multiprocessing')(delayed(linear_model.LogisticRegression(\n",
    "        multi_class='multinomial', solver='sag', max_iter=500).fit)(ar[f'X_{s}'], ar[f'y_{s}']) for s in tup)"
   ]
  },
  {
   "cell_type": "markdown",
   "metadata": {
    "hidden": true
   },
   "source": [
    "#### Storing results"
   ]
  },
  {
   "cell_type": "code",
   "execution_count": 34,
   "metadata": {
    "ExecuteTime": {
     "end_time": "2021-03-14T01:08:59.764750Z",
     "start_time": "2021-03-14T01:08:58.649212Z"
    },
    "hidden": true
   },
   "outputs": [],
   "source": [
    "import shelve\n",
    "\n",
    "with shelve.open(r'bbl.out') as ws:\n",
    "    ws['logits_regs'] = regs # storing regs\n",
    "    ws['logits_cols'] = cols # storing cols"
   ]
  },
  {
   "cell_type": "markdown",
   "metadata": {
    "heading_collapsed": true
   },
   "source": [
    "## Old/unused snippets of code"
   ]
  },
  {
   "cell_type": "code",
   "execution_count": 43,
   "metadata": {
    "ExecuteTime": {
     "end_time": "2021-03-14T01:21:15.042459Z",
     "start_time": "2021-03-14T01:17:40.784969Z"
    },
    "hidden": true
   },
   "outputs": [],
   "source": [
    "# this code gets all col names directly\n",
    "\n",
    "cols = {}\n",
    "\n",
    "for n in range(53):\n",
    "    X = painel.query(\"SEMANA_CINEMATOGRAFICA == @n\")[reg_cols]\n",
    "    num = X.DIA_abs.nunique()\n",
    "    X = pd.get_dummies(X, columns=dummies, drop_first=True)\n",
    "\n",
    "    for col in X.iloc[:,num:].columns:\n",
    "        X[f'{col}:xt_frac'] = X[col]*X['xt_frac']\n",
    "    cols[f'semana_{n}'] = X.columns"
   ]
  }
 ],
 "metadata": {
  "kernelspec": {
   "display_name": "Python 3",
   "language": "python",
   "name": "python3"
  },
  "language_info": {
   "codemirror_mode": {
    "name": "ipython",
    "version": 3
   },
   "file_extension": ".py",
   "mimetype": "text/x-python",
   "name": "python",
   "nbconvert_exporter": "python",
   "pygments_lexer": "ipython3",
   "version": "3.8.5"
  },
  "toc": {
   "base_numbering": 1,
   "nav_menu": {},
   "number_sections": true,
   "sideBar": true,
   "skip_h1_title": false,
   "title_cell": "Table of Contents",
   "title_sidebar": "Contents",
   "toc_cell": false,
   "toc_position": {},
   "toc_section_display": true,
   "toc_window_display": false
  },
  "varInspector": {
   "cols": {
    "lenName": 16,
    "lenType": 16,
    "lenVar": 40
   },
   "kernels_config": {
    "python": {
     "delete_cmd_postfix": "",
     "delete_cmd_prefix": "del ",
     "library": "var_list.py",
     "varRefreshCmd": "print(var_dic_list())"
    },
    "r": {
     "delete_cmd_postfix": ") ",
     "delete_cmd_prefix": "rm(",
     "library": "var_list.r",
     "varRefreshCmd": "cat(var_dic_list()) "
    }
   },
   "position": {
    "height": "254px",
    "left": "998px",
    "right": "20px",
    "top": "119px",
    "width": "351px"
   },
   "types_to_exclude": [
    "module",
    "function",
    "builtin_function_or_method",
    "instance",
    "_Feature"
   ],
   "window_display": false
  }
 },
 "nbformat": 4,
 "nbformat_minor": 4
}
