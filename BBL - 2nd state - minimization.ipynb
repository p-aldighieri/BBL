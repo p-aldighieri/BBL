{
 "cells": [
  {
   "cell_type": "code",
   "execution_count": null,
   "metadata": {
    "ExecuteTime": {
     "end_time": "2021-03-15T15:17:42.682848Z",
     "start_time": "2021-03-15T15:17:42.670280Z"
    }
   },
   "outputs": [],
   "source": [
    "import numpy as np\n",
    "import shelve"
   ]
  },
  {
   "cell_type": "markdown",
   "metadata": {
    "heading_collapsed": true
   },
   "source": [
    "## Importing 1st stage results"
   ]
  },
  {
   "cell_type": "code",
   "execution_count": null,
   "metadata": {
    "ExecuteTime": {
     "end_time": "2021-03-15T15:25:10.280288Z",
     "start_time": "2021-03-15T15:25:10.183701Z"
    },
    "hidden": true
   },
   "outputs": [],
   "source": [
    "filename = r'bbl.out'\n",
    "\n",
    "c_list = [899, 2616, 6586, 24763, 30155, 30352] # list of movie theater ids\n",
    "\n",
    "var_dict = {}\n",
    "\n",
    "with shelve.open(filename) as ws:\n",
    "    for c in c_list:\n",
    "        var_dict[f'{c}_complete'] = ws[f'{c}_completo_add_noise'].astype('float64') # just plug in chosen file"
   ]
  },
  {
   "cell_type": "markdown",
   "metadata": {
    "heading_collapsed": true
   },
   "source": [
    "## Objective Function"
   ]
  },
  {
   "cell_type": "code",
   "execution_count": null,
   "metadata": {
    "ExecuteTime": {
     "end_time": "2021-03-15T15:23:49.157499Z",
     "start_time": "2021-03-15T15:23:49.148465Z"
    },
    "hidden": true
   },
   "outputs": [],
   "source": [
    "# takes as args 2-parameter guesses and a tuple with (c_list, stored_results)\n",
    "\n",
    "def objective(params, *args):\n",
    "    loss = 0 # loss value to be minimized\n",
    "    par_array = np.array([params[0],1,params[1]]) # parameter arrays, 2nd parameter value (private shocks) is normalized to 1\n",
    "    for c in args[0]:\n",
    "        orig = np.sum(np.dot(args[1][f'{c}_complete'][:,:,0],par_array)) # cval, or original value func\n",
    "        loss += np.square([max(0, np.dot(var_dict['899_complete'][:,:,i],par_array).sum() - orig) for i in range(\n",
    "            1,var_dict['899_complete'].shape[2])]).sum() # takes the square of the max of o or the difference between \n",
    "                                                            # bias/noise distvals and cval\n",
    "    return loss"
   ]
  },
  {
   "cell_type": "markdown",
   "metadata": {
    "heading_collapsed": true
   },
   "source": [
    "## Minimizing KDE values\n",
    "Tinkering with guesses and optimization algorithm"
   ]
  },
  {
   "cell_type": "code",
   "execution_count": null,
   "metadata": {
    "ExecuteTime": {
     "end_time": "2021-03-15T15:23:51.266885Z",
     "start_time": "2021-03-15T15:23:50.713278Z"
    },
    "hidden": true
   },
   "outputs": [],
   "source": [
    "from scipy.optimize import minimize"
   ]
  },
  {
   "cell_type": "code",
   "execution_count": null,
   "metadata": {
    "ExecuteTime": {
     "end_time": "2021-03-14T23:29:16.258306Z",
     "start_time": "2021-03-14T23:28:47.638975Z"
    },
    "hidden": true
   },
   "outputs": [],
   "source": [
    "for i in range(10):\n",
    "    print(minimize(objective, np.array([50*i,50*i]), args=(c_list, var_dict), method='BFGS', options={'maxiter':500}).x)"
   ]
  },
  {
   "cell_type": "code",
   "execution_count": null,
   "metadata": {
    "ExecuteTime": {
     "end_time": "2021-03-15T02:37:15.301130Z",
     "start_time": "2021-03-15T02:37:11.660865Z"
    },
    "hidden": true
   },
   "outputs": [],
   "source": [
    "results = minimize(objective2, np.array([0,0]), args=(c_list, var_dict), method='BFGS', options={'maxiter':500})"
   ]
  },
  {
   "cell_type": "code",
   "execution_count": null,
   "metadata": {
    "ExecuteTime": {
     "end_time": "2021-03-15T02:40:04.217783Z",
     "start_time": "2021-03-15T02:40:04.211800Z"
    },
    "hidden": true
   },
   "outputs": [],
   "source": [
    "results.x"
   ]
  },
  {
   "cell_type": "code",
   "execution_count": null,
   "metadata": {
    "ExecuteTime": {
     "end_time": "2021-03-15T02:39:05.902171Z",
     "start_time": "2021-03-15T02:39:05.896188Z"
    },
    "hidden": true
   },
   "outputs": [],
   "source": [
    "print(np.square([results.hess_inv[0,0], results.hess_inv[1,1]]))"
   ]
  },
  {
   "cell_type": "markdown",
   "metadata": {
    "heading_collapsed": true
   },
   "source": [
    "## Minimizing Logit values\n",
    "Tinkering with guesses and optimization algorithm"
   ]
  },
  {
   "cell_type": "code",
   "execution_count": null,
   "metadata": {
    "ExecuteTime": {
     "end_time": "2021-03-15T15:25:38.033440Z",
     "start_time": "2021-03-15T15:25:35.282012Z"
    },
    "hidden": true
   },
   "outputs": [],
   "source": [
    "minimize(objective, np.array([0,0]), args=(c_list, var_dict), method='Nelder-Mead', options={'maxiter':500})"
   ]
  },
  {
   "cell_type": "code",
   "execution_count": null,
   "metadata": {
    "ExecuteTime": {
     "end_time": "2021-03-15T15:28:04.986800Z",
     "start_time": "2021-03-15T15:27:16.374614Z"
    },
    "hidden": true
   },
   "outputs": [],
   "source": [
    "for i in range(10):\n",
    "    print(minimize(objective, np.array([50*i,-50*i]), args=(c_list, var_dict), method='BFGS', options={'maxiter':500}).x)"
   ]
  },
  {
   "cell_type": "markdown",
   "metadata": {
    "heading_collapsed": true
   },
   "source": [
    "## Results and Hessian Inverse"
   ]
  },
  {
   "cell_type": "code",
   "execution_count": null,
   "metadata": {
    "ExecuteTime": {
     "end_time": "2021-03-15T15:31:16.117233Z",
     "start_time": "2021-03-15T15:31:14.970012Z"
    },
    "hidden": true
   },
   "outputs": [],
   "source": [
    "results = minimize(objective, np.array([0,0]), args=(c_list, var_dict), method='BFGS', options={'maxiter':500})"
   ]
  },
  {
   "cell_type": "code",
   "execution_count": null,
   "metadata": {
    "ExecuteTime": {
     "end_time": "2021-03-15T15:31:16.904267Z",
     "start_time": "2021-03-15T15:31:16.898362Z"
    },
    "hidden": true
   },
   "outputs": [],
   "source": [
    "results.x"
   ]
  },
  {
   "cell_type": "code",
   "execution_count": null,
   "metadata": {
    "ExecuteTime": {
     "end_time": "2021-03-15T15:31:33.967224Z",
     "start_time": "2021-03-15T15:31:33.961094Z"
    },
    "hidden": true
   },
   "outputs": [],
   "source": [
    "print(np.sqrt([results.hess_inv[0,0], results.hess_inv[1,1]]))"
   ]
  }
 ],
 "metadata": {
  "kernelspec": {
   "display_name": "Python 3",
   "language": "python",
   "name": "python3"
  },
  "language_info": {
   "codemirror_mode": {
    "name": "ipython",
    "version": 3
   },
   "file_extension": ".py",
   "mimetype": "text/x-python",
   "name": "python",
   "nbconvert_exporter": "python",
   "pygments_lexer": "ipython3",
   "version": "3.8.5"
  },
  "toc": {
   "base_numbering": 1,
   "nav_menu": {},
   "number_sections": true,
   "sideBar": true,
   "skip_h1_title": false,
   "title_cell": "Table of Contents",
   "title_sidebar": "Contents",
   "toc_cell": false,
   "toc_position": {},
   "toc_section_display": true,
   "toc_window_display": false
  },
  "varInspector": {
   "cols": {
    "lenName": 16,
    "lenType": 16,
    "lenVar": 40
   },
   "kernels_config": {
    "python": {
     "delete_cmd_postfix": "",
     "delete_cmd_prefix": "del ",
     "library": "var_list.py",
     "varRefreshCmd": "print(var_dic_list())"
    },
    "r": {
     "delete_cmd_postfix": ") ",
     "delete_cmd_prefix": "rm(",
     "library": "var_list.r",
     "varRefreshCmd": "cat(var_dic_list()) "
    }
   },
   "types_to_exclude": [
    "module",
    "function",
    "builtin_function_or_method",
    "instance",
    "_Feature"
   ],
   "window_display": false
  }
 },
 "nbformat": 4,
 "nbformat_minor": 4
}
