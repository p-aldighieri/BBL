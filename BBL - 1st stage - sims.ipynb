{
 "cells": [
  {
   "cell_type": "code",
   "execution_count": null,
   "metadata": {
    "ExecuteTime": {
     "end_time": "2021-03-25T02:56:35.404580Z",
     "start_time": "2021-03-25T02:56:34.686574Z"
    }
   },
   "outputs": [],
   "source": [
    "import numpy as np\n",
    "import pandas as pd\n",
    "import shelve\n",
    "from scipy.stats import gumbel_r, norm"
   ]
  },
  {
   "cell_type": "markdown",
   "metadata": {
    "heading_collapsed": true
   },
   "source": [
    "# *Forward simulation* algorithm build-up and old snippets of code"
   ]
  },
  {
   "cell_type": "code",
   "execution_count": null,
   "metadata": {
    "hidden": true
   },
   "outputs": [],
   "source": [
    "# CPB id creation (0-908)\n",
    "\n",
    "# DataFrame with movie id, with 0-355 for Brazilian ones (Ancine id starting with 'B') and 356-908 for foreign ones\n",
    "# (Ancine id starting with 'E')\n",
    "\n",
    "cpb_id = painel.groupby(['CPB_ROE']).agg({'id_NAC':'first'})\n",
    "cpb_id['id'] = np.arange(cpb_id.shape[0])\n",
    "\n",
    "import shelve\n",
    "\n",
    "with shelve.open(r'bbl.out') as ws:\n",
    "    ws['cpb_id'] = cpb_id"
   ]
  },
  {
   "cell_type": "code",
   "execution_count": null,
   "metadata": {
    "ExecuteTime": {
     "end_time": "2021-03-07T22:36:59.302855Z",
     "start_time": "2021-03-07T22:35:32.261060Z"
    },
    "hidden": true
   },
   "outputs": [],
   "source": [
    "# Former data cleaning and import \n",
    "\n",
    "# starting with cpb_id import\n",
    "\n",
    "filename = r'bbl.out'\n",
    "\n",
    "with shelve.open(filename) as ws:\n",
    "    cpb_id = ws['cpb_id']\n",
    "\n",
    "painel = pd.read_csv('Painel 2018.csv', dtype={\n",
    "    'ANO_CINEMATOGRAFICO':int , 'SEMANA_CINEMATOGRAFICA':int, 'REGISTRO_COMPLEXO':int,\n",
    "    'CPB_ROE':str, 'OCUPAÇÃO_SALA_INFERIDA':float, 'd_t':int, 'x_t':float,\n",
    "    'id_NAC':int, 'xt_comp':float, 't_comp':int, 'OBG_FINAL_COMP':float,\n",
    "    'SALAS_COMP':float, 'DIA_abs':int, 'COMP_CUMPRIU':bool, 'ASSENTOS_INFERIDO':int, 'TIPO_SESSAO':str,\n",
    "    'xt_frac':float}, usecols=['ANO_CINEMATOGRAFICO', 'SEMANA_CINEMATOGRAFICA',\n",
    "        'REGISTRO_COMPLEXO', 'CPB_ROE', 'OCUPAÇÃO_SALA_INFERIDA', 'd_t','id_NAC', 'xt_comp', 't_comp', \n",
    "        'OBG_FINAL_COMP','SALAS_COMP','DIA_abs', 'COMP_CUMPRIU','xt_frac', 'ASSENTOS_INFERIDO', 'TIPO_SESSAO'])\n",
    "\n",
    "# turning last cine week of 2017 --- that goes on to the beggining of calendar-year of 2018 --- to week 0, so that we\n",
    "# don't have double entries in week no.: week 52 in 2016 \n",
    "\n",
    "painel.loc[(painel.ANO_CINEMATOGRAFICO == 2017)&(painel.SEMANA_CINEMATOGRAFICA == 52), 'SEMANA_CINEMATOGRAFICA'] = 0\n",
    "\n",
    "# removing movie theater with 0 quota\n",
    "painel = painel[painel.REGISTRO_COMPLEXO != 17556]\n",
    "\n",
    "# this col formalizes the state transition function, i.e. equals the % fulfillment in session t should the screened movie be \n",
    "    # Brazilian\n",
    "painel['cump_frac'] = np.divide(np.divide(1, painel['d_t'].values), painel['OBG_FINAL_COMP'].values)\n",
    "\n",
    "# fractional fulfilllment at session t\n",
    "painel['xt_frac'] = painel['xt_comp'] / painel['OBG_FINAL_COMP']\n",
    "\n",
    "# mapping movie ids to panel data from cpb_id array\n",
    "painel['cpb_id'] = painel.loc[:,'CPB_ROE'].map(cpb_id.loc[:,'id'], na_action ='ignore')\n",
    "\n",
    "painel.to_csv('Painel 2018 final.csv', index=False) # export"
   ]
  },
  {
   "cell_type": "code",
   "execution_count": null,
   "metadata": {
    "ExecuteTime": {
     "end_time": "2021-03-07T19:35:14.604693Z",
     "start_time": "2021-03-07T19:35:14.599810Z"
    },
    "hidden": true
   },
   "outputs": [],
   "source": [
    "np_obras = np.zeros((909,53))\n",
    "\n",
    "# function to place in movie id (row) x week (col) the avg seat occupation if the movie was screened that week and 0 otherwise\n",
    "def placer(row):\n",
    "    np_obras[row['cpb_id'], row['SEMANA_CINEMATOGRAFICA']] = row['OCUPAÇÃO_SALA_INFERIDA']\n",
    "\n",
    "obras.apply(placer, axis=1) # applying placer to object obras previously defined\n",
    "\n",
    "with shelve.open(filename) as ws: # storing results\n",
    "    ws['np_obras'] = np_obras"
   ]
  },
  {
   "cell_type": "code",
   "execution_count": null,
   "metadata": {
    "ExecuteTime": {
     "end_time": "2021-03-23T14:12:19.137522Z",
     "start_time": "2021-03-22T19:38:40.714623Z"
    },
    "hidden": true
   },
   "outputs": [],
   "source": [
    "import time\n",
    "from sklearn.neighbors import KernelDensity\n",
    "from sklearn.model_selection import GridSearchCV\n",
    "\n",
    "grid_dict = {} # creating dict to store regression objects\n",
    "\n",
    "cpb_index = np.arange(np_obras.shape[0]) # ids of movies\n",
    "\n",
    "for w in range(53):\n",
    "    tsw = time.localtime(time.time())\n",
    "    print(f'Starting week {w} at day {tsw.tm_mday}, {tsw.tm_hour}:{tsw.tm_min}')\n",
    "    painelzim = painel.query(\"SEMANA_CINEMATOGRAFICA==@w\")[['cpb_id','DIA_abs','xt_frac']]\n",
    "    for o in cpb_index[np.where(np_obras[:,w] > 0, True, False)]:        \n",
    "        # now more narrowly defined for each movie id\n",
    "        ds = painelzim.query(\"cpb_id==@o\")[['DIA_abs','xt_frac']].to_numpy()\n",
    "        # computing and storing KDEs\n",
    "        try:\n",
    "            grid = GridSearchCV(KernelDensity(), {'bandwidth': np.linspace(0,10,20)})\n",
    "            grid_dict[f'{w},{int(o)},5'] = grid.fit(ds)\n",
    "            print(f'{o} in week {w} proceeded to standard 5 CV KDE') # 5-fold cross validation\n",
    "        except:\n",
    "            try: # if sample is too low to accomodate 5-fold CV we try 2-fold CV\n",
    "                grid = GridSearchCV(KernelDensity(), {'bandwidth': np.linspace(0,10,20)}, cv=2)\n",
    "                grid_dict[f'{w},{int(o)},2'] = grid.fit(ds)\n",
    "                print(f'{o} in week {w} proceeded to non-standard 2 CV KDE')\n",
    "            except: # for cases where even 2-fold CV is not feasible, namely, for movies that were screen only once or twice\n",
    "                grid_dict[f'{w},{int(o)},0'] = KernelDensity(bandwidth=0.5).fit(ds)\n",
    "                print(f'{o} in week {w} proceeded to simple KDE')"
   ]
  },
  {
   "cell_type": "code",
   "execution_count": null,
   "metadata": {
    "ExecuteTime": {
     "end_time": "2021-03-23T15:51:10.937885Z",
     "start_time": "2021-03-23T15:51:08.579986Z"
    },
    "hidden": true
   },
   "outputs": [],
   "source": [
    "with shelve.open(r'bbl.out') as ws: # storing results from above\n",
    "    ws['kdes_cv'] = grid_dict"
   ]
  },
  {
   "cell_type": "markdown",
   "metadata": {},
   "source": [
    "# Importing data"
   ]
  },
  {
   "cell_type": "code",
   "execution_count": null,
   "metadata": {
    "ExecuteTime": {
     "end_time": "2021-03-25T02:56:40.937546Z",
     "start_time": "2021-03-25T02:56:40.932533Z"
    }
   },
   "outputs": [],
   "source": [
    "# defining cols to import from Painel 2018 final.csv\n",
    "\n",
    "colunas = ['ANO_CINEMATOGRAFICO', 'SEMANA_CINEMATOGRAFICA', 'TIPO_SESSAO',\n",
    "       'REGISTRO_COMPLEXO', 'CPB_ROE', 'ASSENTOS_INFERIDO',\n",
    "       'OCUPAÇÃO_SALA_INFERIDA', 'd_t', 'id_NAC', 'xt_comp', 't_comp',\n",
    "       'OBG_FINAL_COMP', 'SALAS_COMP', 'DIA_abs', 'COMP_CUMPRIU', 'xt_frac',\n",
    "       'cump_frac', 'cpb_id', 'beta']\n",
    "\n",
    "remover = {'CPB_ROE','ASSENTOS_INFERIDO','TIPO_SESSAO','ANO_CINEMATOGRAFICO','d_t'} # cols not to be features\n",
    "\n",
    "importar = list(set(colunas).difference(remover))"
   ]
  },
  {
   "cell_type": "code",
   "execution_count": null,
   "metadata": {
    "ExecuteTime": {
     "end_time": "2021-03-25T02:56:47.626553Z",
     "start_time": "2021-03-25T02:56:41.332463Z"
    }
   },
   "outputs": [],
   "source": [
    "painel = pd.read_csv('Painel 2018 final.csv', dtype={\n",
    "    'ANO_CINEMATOGRAFICO':int , 'SEMANA_CINEMATOGRAFICA':int, 'REGISTRO_COMPLEXO':int,\n",
    "    'CPB_ROE':str, 'OCUPAÇÃO_SALA_INFERIDA':float, 'd_t':int, 'x_t':float,\n",
    "    'id_NAC':int, 'xt_comp':float, 't_comp':int, 'OBG_FINAL_COMP':float,\n",
    "    'SALAS_COMP':float, 'DIA_abs':int, 'COMP_CUMPRIU':bool, 'cpb_id':int, 'cump_frac':float, \n",
    "    'xt_frac':float, 'ASSENTOS_INFERIDO':int, 'TIPO_SESSAO':str, 'beta':float}, usecols=importar)"
   ]
  },
  {
   "cell_type": "code",
   "execution_count": null,
   "metadata": {
    "ExecuteTime": {
     "end_time": "2021-03-25T02:56:47.817748Z",
     "start_time": "2021-03-25T02:56:47.656314Z"
    }
   },
   "outputs": [],
   "source": [
    "# dataframe with number of sessions (t) or observations for each movie theater. this value goes as an arg for simulations\n",
    "compobs = painel.groupby(['REGISTRO_COMPLEXO']).t_comp.count()"
   ]
  },
  {
   "cell_type": "markdown",
   "metadata": {},
   "source": [
    "#  Simulations"
   ]
  },
  {
   "cell_type": "markdown",
   "metadata": {},
   "source": [
    "## Importing stored variables and getting densities"
   ]
  },
  {
   "cell_type": "code",
   "execution_count": null,
   "metadata": {
    "ExecuteTime": {
     "end_time": "2021-03-25T02:57:00.273518Z",
     "start_time": "2021-03-25T02:56:58.092573Z"
    }
   },
   "outputs": [],
   "source": [
    "with shelve.open(r'bbl.out') as ws:\n",
    "    np_obras = ws['np_obras'] # defined in the old snippets of code above, 908 rows vs. 53 cols, movie ids and weeks resp.\n",
    "    kdes_cv = ws['kdes_cv'] # KDEs obtained via GridSearchCV\n",
    "    logits = ws['logits_regs_all'] # first-stage Logit CCPs\n",
    "    cols = ws['logits_cols_all'] # cols from Logits"
   ]
  },
  {
   "cell_type": "code",
   "execution_count": null,
   "metadata": {
    "ExecuteTime": {
     "end_time": "2021-03-25T02:57:14.550851Z",
     "start_time": "2021-03-25T02:57:14.544835Z"
    }
   },
   "outputs": [],
   "source": [
    "import bbl # py script with functions for sims"
   ]
  },
  {
   "cell_type": "code",
   "execution_count": null,
   "metadata": {
    "ExecuteTime": {
     "end_time": "2021-03-14T01:15:26.380962Z",
     "start_time": "2021-03-14T01:14:55.248917Z"
    }
   },
   "outputs": [],
   "source": [
    "# getting density by traditional KDE w/o GridSearchCV. in this case, bandwidth was computed using the mode of BWs of a\n",
    "# sample where GridSearch was applied\n",
    "\n",
    "d = bbl.get_kdes(painel,np_obras)"
   ]
  },
  {
   "cell_type": "code",
   "execution_count": null,
   "metadata": {
    "ExecuteTime": {
     "end_time": "2021-03-25T02:57:28.540802Z",
     "start_time": "2021-03-25T02:57:28.522752Z"
    }
   },
   "outputs": [],
   "source": [
    "# alternative dict getting items from kdes with bandwidth computed with GridSearchCV\n",
    "\n",
    "d = {}\n",
    "\n",
    "for k, v in kdes_cv.items():\n",
    "    w, cpb, cv = k.split(',')\n",
    "    if cv == '0': # these were already directly calculated because sample didn't allow for N-fold CV\n",
    "        d[f'{w},{int(cpb)}'] = v\n",
    "    else: # from these we get GridSearchCV best estimator attribute\n",
    "        d[f'{w},{int(cpb)}'] = v.best_estimator_"
   ]
  },
  {
   "cell_type": "markdown",
   "metadata": {},
   "source": [
    "## Defining function args and movie theater list"
   ]
  },
  {
   "cell_type": "code",
   "execution_count": null,
   "metadata": {
    "ExecuteTime": {
     "end_time": "2021-03-25T02:59:10.695247Z",
     "start_time": "2021-03-25T02:59:10.525325Z"
    }
   },
   "outputs": [],
   "source": [
    "c_list = list(painel.query(\"SALAS_COMP == 12\").REGISTRO_COMPLEXO.unique()) # list of movie theater complexes of 12 screens\n",
    "obs = [compobs.loc[c] for c in c_list] # observations or sessions from DataFrame (see sec. 2)\n",
    "\n",
    "# choosing only relevant panel variables for each movie theater, for details see, e.g., cval in bbl.py\n",
    "pc_np_899 = painel[painel.REGISTRO_COMPLEXO == 899][['cump_frac','DIA_abs','SEMANA_CINEMATOGRAFICA']].to_numpy()\n",
    "pc_np_2616 = painel[painel.REGISTRO_COMPLEXO == 2616][['cump_frac','DIA_abs','SEMANA_CINEMATOGRAFICA']].to_numpy()\n",
    "pc_np_6586 = painel[painel.REGISTRO_COMPLEXO == 6586][['cump_frac','DIA_abs','SEMANA_CINEMATOGRAFICA']].to_numpy()\n",
    "pc_np_24763 = painel[painel.REGISTRO_COMPLEXO == 24763][['cump_frac','DIA_abs','SEMANA_CINEMATOGRAFICA']].to_numpy()\n",
    "pc_np_30155 = painel[painel.REGISTRO_COMPLEXO == 30155][['cump_frac','DIA_abs','SEMANA_CINEMATOGRAFICA']].to_numpy()\n",
    "pc_np_30352 = painel[painel.REGISTRO_COMPLEXO == 30352][['cump_frac','DIA_abs','SEMANA_CINEMATOGRAFICA']].to_numpy()\n",
    "\n",
    "pc_nps = [pc_np_899, pc_np_2616, pc_np_6586, pc_np_24763, pc_np_30155, pc_np_30352]\n",
    "\n",
    "zipped = list(zip(c_list, obs, pc_nps)) # zipping list to facilitate multiprocessing "
   ]
  },
  {
   "cell_type": "code",
   "execution_count": null,
   "metadata": {
    "ExecuteTime": {
     "end_time": "2021-03-07T03:02:28.116891Z",
     "start_time": "2021-03-07T03:02:28.044087Z"
    },
    "scrolled": false
   },
   "outputs": [],
   "source": [
    "print(painel.query(\"SALAS_COMP == 12\").REGISTRO_COMPLEXO.unique()) # chosen movie theater ids"
   ]
  },
  {
   "cell_type": "markdown",
   "metadata": {
    "ExecuteTime": {
     "end_time": "2021-03-07T22:52:19.429434Z",
     "start_time": "2021-03-07T22:52:19.425447Z"
    }
   },
   "source": [
    "## Cval simulations (see bbl.py for more info)\n",
    "\n",
    "Cval stands for correct agent value function"
   ]
  },
  {
   "cell_type": "markdown",
   "metadata": {},
   "source": [
    "### KDEs"
   ]
  },
  {
   "cell_type": "code",
   "execution_count": null,
   "metadata": {
    "ExecuteTime": {
     "start_time": "2021-03-25T02:59:17.515Z"
    }
   },
   "outputs": [],
   "source": [
    "# parallelizing the process with joblib\n",
    "\n",
    "from joblib import Parallel, delayed\n",
    "\n",
    "func = bbl.cval # for details, check bbl.py\n",
    "\n",
    "avg = 40\n",
    "\n",
    "cval_899, cval_2616, cval_6586, cval_24763, cval_30155, cval_30352 = Parallel(\n",
    "    n_jobs = 6, backend='multiprocessing')(delayed(func)(c, avg, o, p, np_obras, d) for c, o, p in zipped)"
   ]
  },
  {
   "cell_type": "code",
   "execution_count": null,
   "metadata": {
    "ExecuteTime": {
     "end_time": "2021-03-08T06:01:09.014485Z",
     "start_time": "2021-03-08T06:01:08.444680Z"
    }
   },
   "outputs": [],
   "source": [
    "# multiplying by betas. recall that betas are daily discount factors for a annual interest rate of 6.5%\n",
    "\n",
    "with shelve.open(r'bbl.out') as ws:\n",
    "    for i in range(3):\n",
    "        cval_899[:,i] = np.multiply(cval_899[:,i],ws['899_betas'])\n",
    "        cval_2616[:,i] = np.multiply(cval_2616[:,i],ws['2616_betas'])\n",
    "        cval_6586[:,i] = np.multiply(cval_6586[:,i],ws['6586_betas'])\n",
    "        cval_24763[:,i] = np.multiply(cval_24763[:,i],ws['24763_betas'])\n",
    "        cval_30155[:,i] = np.multiply(cval_30155[:,i],ws['30155_betas'])\n",
    "        cval_30352[:,i] = np.multiply(cval_30352[:,i],ws['30352_betas'])"
   ]
  },
  {
   "cell_type": "code",
   "execution_count": null,
   "metadata": {
    "ExecuteTime": {
     "end_time": "2021-03-08T14:11:36.594408Z",
     "start_time": "2021-03-08T14:11:36.570345Z"
    }
   },
   "outputs": [],
   "source": [
    "# storing results with shelve\n",
    "\n",
    "with shelve.open(r'bbl.out') as ws:\n",
    "    ws['cval_899'] = cval_899\n",
    "    ws['cval_2616'] = cval_2616\n",
    "    ws['cval_6586'] = cval_6586\n",
    "    ws['cval_24763'] = cval_24763\n",
    "    ws['cval_30155'] = cval_30155 \n",
    "    ws['cval_30352'] = cval_30352"
   ]
  },
  {
   "cell_type": "markdown",
   "metadata": {
    "heading_collapsed": true
   },
   "source": [
    "### Logits"
   ]
  },
  {
   "cell_type": "code",
   "execution_count": null,
   "metadata": {
    "ExecuteTime": {
     "end_time": "2021-03-14T20:33:50.729524Z",
     "start_time": "2021-03-14T19:22:18.225631Z"
    },
    "hidden": true
   },
   "outputs": [],
   "source": [
    "cvals = {}\n",
    "\n",
    "avg = 100\n",
    "\n",
    "for c, o, p in zipped: # logit sims are substantially faster so that we can run them without multiprocessing\n",
    "    print(c)\n",
    "    cvals[f'cval_{c}'] = bbl.cval_logit(c,avg,o,p,np_obras,logits,cols)\n"
   ]
  },
  {
   "cell_type": "code",
   "execution_count": null,
   "metadata": {
    "ExecuteTime": {
     "end_time": "2021-03-14T23:43:28.308780Z",
     "start_time": "2021-03-14T23:43:28.168498Z"
    },
    "hidden": true
   },
   "outputs": [],
   "source": [
    "# multiplying by betas. recall that betas are daily discount factors for a annual interest rate of 6.5%\n",
    "\n",
    "for c in c_list: # c_list defined in section 3.2\n",
    "    for i in range(3):\n",
    "        cvals[f'cval_{c}'][:,i] = np.multiply(cvals[f'cval_{c}'][:,i],\n",
    "                                              painel.loc[(painel.REGISTRO_COMPLEXO == c), 'beta'].values)"
   ]
  },
  {
   "cell_type": "code",
   "execution_count": null,
   "metadata": {
    "ExecuteTime": {
     "end_time": "2021-03-14T23:44:35.335327Z",
     "start_time": "2021-03-14T23:44:35.315285Z"
    },
    "hidden": true
   },
   "outputs": [],
   "source": [
    "with shelve.open(r'bbl.out') as ws: # storing results\n",
    "    for c in c_list:\n",
    "        ws[f'logit_cval_{c}'] = cvals[f'cval_{c}']  "
   ]
  },
  {
   "cell_type": "markdown",
   "metadata": {
    "heading_collapsed": true
   },
   "source": [
    "## Distval simulations (see bbl.py for more info)\n",
    "\n",
    "Distval stands for distorted agent value functions. As mentioned in the README.md, we use two approaches: systematic bias and random noise."
   ]
  },
  {
   "cell_type": "markdown",
   "metadata": {
    "heading_collapsed": true,
    "hidden": true
   },
   "source": [
    "### KDEs"
   ]
  },
  {
   "cell_type": "markdown",
   "metadata": {
    "heading_collapsed": true,
    "hidden": true
   },
   "source": [
    "#### Distval bias"
   ]
  },
  {
   "cell_type": "markdown",
   "metadata": {
    "heading_collapsed": true,
    "hidden": true
   },
   "source": [
    "##### ID: 899"
   ]
  },
  {
   "cell_type": "code",
   "execution_count": null,
   "metadata": {
    "ExecuteTime": {
     "end_time": "2021-03-14T05:32:38.682835Z",
     "start_time": "2021-03-14T01:22:22.330190Z"
    },
    "hidden": true
   },
   "outputs": [],
   "source": [
    "from joblib import Parallel, delayed # parallel processing with joblib\n",
    "\n",
    "func = bbl.distval\n",
    "\n",
    "c = 899 # movie theater id\n",
    "\n",
    "wfs = [0.1, 0.2, -0.1, -0.2] # weighting factors used to distort probabilities for Brazilian movies\n",
    "\n",
    "pc_np = painel[painel.REGISTRO_COMPLEXO == c][['cump_frac','DIA_abs','SEMANA_CINEMATOGRAFICA']].to_numpy() # here we simulate each movie theater, so we get the panel data each time\n",
    "\n",
    "dval_899_11, dval_899_12, dval_899_09, dval_899_08 = Parallel(n_jobs = 4, backend='multiprocessing')(delayed(func)(c, 30, compobs.loc[c], pc_np, np_obras, i, d) for i in wfs)"
   ]
  },
  {
   "cell_type": "code",
   "execution_count": null,
   "metadata": {
    "ExecuteTime": {
     "end_time": "2021-03-14T05:32:39.610332Z",
     "start_time": "2021-03-14T05:32:39.602308Z"
    },
    "hidden": true
   },
   "outputs": [],
   "source": [
    "dval_899 = np.zeros(shape=(dval_899_11.shape[0], dval_899_11.shape[1], 4)) # create ndarray to store results\n",
    "\n",
    "# and store\n",
    "dval_899[:,:,0], dval_899[:,:,1], dval_899[:,:,2], dval_899[:,:,3] = dval_899_11, dval_899_12, dval_899_09, dval_899_08"
   ]
  },
  {
   "cell_type": "code",
   "execution_count": null,
   "metadata": {
    "ExecuteTime": {
     "end_time": "2021-03-14T05:32:40.505711Z",
     "start_time": "2021-03-14T05:32:40.356314Z"
    },
    "hidden": true
   },
   "outputs": [],
   "source": [
    "with shelve.open(r'bbl.out') as ws:\n",
    "    ws['dval_899'] = dval_899 # store raw results\n",
    "    for n in range(4):\n",
    "        for i in range(3):\n",
    "            dval_899[:,i,n] = np.multiply(dval_899[:,i,n],painel.loc[(painel.REGISTRO_COMPLEXO == 899), 'beta'].values)\n",
    "    ws['beta_dval_899'] = dval_899 # store discounted res"
   ]
  },
  {
   "cell_type": "markdown",
   "metadata": {
    "heading_collapsed": true,
    "hidden": true
   },
   "source": [
    "##### ID: 2616"
   ]
  },
  {
   "cell_type": "code",
   "execution_count": null,
   "metadata": {
    "ExecuteTime": {
     "end_time": "2021-03-14T05:32:38.682835Z",
     "start_time": "2021-03-14T01:22:22.330190Z"
    },
    "hidden": true
   },
   "outputs": [],
   "source": [
    "from joblib import Parallel, delayed # parallel processing with joblib\n",
    "\n",
    "func = bbl.distval\n",
    "\n",
    "c = 2616 # movie theater id\n",
    "\n",
    "wfs = [0.1, 0.2, -0.1, -0.2] # weighting factors used to distort probabilities for Brazilian movies\n",
    "\n",
    "pc_np = painel[painel.REGISTRO_COMPLEXO == c][['cump_frac','DIA_abs','SEMANA_CINEMATOGRAFICA']].to_numpy() # here we simulate each movie theater, so we get the panel data each time\n",
    "\n",
    "dval_2616_11, dval_2616_12, dval_2616_09, dval_2616_08 = Parallel(n_jobs = 4, backend='multiprocessing')(delayed(func)(c, 30, compobs.loc[c], pc_np, np_obras, i, d) for i in wfs)"
   ]
  },
  {
   "cell_type": "code",
   "execution_count": null,
   "metadata": {
    "ExecuteTime": {
     "end_time": "2021-03-14T05:32:39.610332Z",
     "start_time": "2021-03-14T05:32:39.602308Z"
    },
    "hidden": true
   },
   "outputs": [],
   "source": [
    "dval_2616 = np.zeros(shape=(dval_2616_11.shape[0], dval_2616_11.shape[1], 4)) # create ndarray to store results\n",
    "\n",
    "# and store\n",
    "dval_2616[:,:,0], dval_2616[:,:,1], dval_2616[:,:,2], dval_2616[:,:,3] = dval_2616_11, dval_2616_12, dval_2616_09, dval_2616_08"
   ]
  },
  {
   "cell_type": "code",
   "execution_count": null,
   "metadata": {
    "ExecuteTime": {
     "end_time": "2021-03-14T05:32:40.505711Z",
     "start_time": "2021-03-14T05:32:40.356314Z"
    },
    "hidden": true
   },
   "outputs": [],
   "source": [
    "with shelve.open(r'bbl.out') as ws:\n",
    "    ws['dval_2616'] = dval_2616 # store raw results\n",
    "    for n in range(4):\n",
    "        for i in range(3):\n",
    "            dval_2616[:,i,n] = np.multiply(dval_2616[:,i,n],painel.loc[(painel.REGISTRO_COMPLEXO == 2616), 'beta'].values)\n",
    "    ws['beta_dval_2616'] = dval_2616 # store discounted res"
   ]
  },
  {
   "cell_type": "markdown",
   "metadata": {
    "heading_collapsed": true,
    "hidden": true
   },
   "source": [
    "##### ID: 6586"
   ]
  },
  {
   "cell_type": "code",
   "execution_count": null,
   "metadata": {
    "ExecuteTime": {
     "end_time": "2021-03-14T05:32:38.682835Z",
     "start_time": "2021-03-14T01:22:22.330190Z"
    },
    "hidden": true
   },
   "outputs": [],
   "source": [
    "from joblib import Parallel, delayed # parallel processing with joblib\n",
    "\n",
    "func = bbl.distval\n",
    "\n",
    "c = 6586 # movie theater id\n",
    "\n",
    "wfs = [0.1, 0.2, -0.1, -0.2] # weighting factors used to distort probabilities for Brazilian movies\n",
    "\n",
    "pc_np = painel[painel.REGISTRO_COMPLEXO == c][['cump_frac','DIA_abs','SEMANA_CINEMATOGRAFICA']].to_numpy() # here we simulate each movie theater, so we get the panel data each time\n",
    "\n",
    "dval_6586_11, dval_6586_12, dval_6586_09, dval_6586_08 = Parallel(n_jobs = 4, backend='multiprocessing')(delayed(func)(c, 30, compobs.loc[c], pc_np, np_obras, i, d) for i in wfs)"
   ]
  },
  {
   "cell_type": "code",
   "execution_count": null,
   "metadata": {
    "ExecuteTime": {
     "end_time": "2021-03-14T05:32:39.610332Z",
     "start_time": "2021-03-14T05:32:39.602308Z"
    },
    "hidden": true
   },
   "outputs": [],
   "source": [
    "dval_6586 = np.zeros(shape=(dval_6586_11.shape[0], dval_6586_11.shape[1], 4)) # create ndarray to store results\n",
    "\n",
    "# and store\n",
    "dval_6586[:,:,0], dval_6586[:,:,1], dval_6586[:,:,2], dval_6586[:,:,3] = dval_6586_11, dval_6586_12, dval_6586_09, dval_6586_08"
   ]
  },
  {
   "cell_type": "code",
   "execution_count": null,
   "metadata": {
    "ExecuteTime": {
     "end_time": "2021-03-14T05:32:40.505711Z",
     "start_time": "2021-03-14T05:32:40.356314Z"
    },
    "hidden": true
   },
   "outputs": [],
   "source": [
    "with shelve.open(r'bbl.out') as ws:\n",
    "    ws['dval_6586'] = dval_6586 # store raw results\n",
    "    for n in range(4):\n",
    "        for i in range(3):\n",
    "            dval_6586[:,i,n] = np.multiply(dval_6586[:,i,n],painel.loc[(painel.REGISTRO_COMPLEXO == 6586), 'beta'].values)\n",
    "    ws['beta_dval_6586'] = dval_6586 # store discounted res"
   ]
  },
  {
   "cell_type": "markdown",
   "metadata": {
    "heading_collapsed": true,
    "hidden": true
   },
   "source": [
    "##### ID: 24763"
   ]
  },
  {
   "cell_type": "code",
   "execution_count": null,
   "metadata": {
    "ExecuteTime": {
     "end_time": "2021-03-14T05:32:38.682835Z",
     "start_time": "2021-03-14T01:22:22.330190Z"
    },
    "hidden": true
   },
   "outputs": [],
   "source": [
    "from joblib import Parallel, delayed # parallel processing with joblib\n",
    "\n",
    "func = bbl.distval\n",
    "\n",
    "c = 24763 # movie theater id\n",
    "\n",
    "wfs = [0.1, 0.2, -0.1, -0.2] # weighting factors used to distort probabilities for Brazilian movies\n",
    "\n",
    "pc_np = painel[painel.REGISTRO_COMPLEXO == c][['cump_frac','DIA_abs','SEMANA_CINEMATOGRAFICA']].to_numpy() # here we simulate each movie theater, so we get the panel data each time\n",
    "\n",
    "dval_24763_11, dval_24763_12, dval_24763_09, dval_24763_08 = Parallel(n_jobs = 4, backend='multiprocessing')(delayed(func)(c, 30, compobs.loc[c], pc_np, np_obras, i, d) for i in wfs)"
   ]
  },
  {
   "cell_type": "code",
   "execution_count": null,
   "metadata": {
    "ExecuteTime": {
     "end_time": "2021-03-14T05:32:39.610332Z",
     "start_time": "2021-03-14T05:32:39.602308Z"
    },
    "hidden": true
   },
   "outputs": [],
   "source": [
    "dval_24763 = np.zeros(shape=(dval_24763_11.shape[0], dval_24763_11.shape[1], 4)) # create ndarray to store results\n",
    "\n",
    "# and store\n",
    "dval_24763[:,:,0], dval_24763[:,:,1], dval_24763[:,:,2], dval_24763[:,:,3] = dval_24763_11, dval_24763_12, dval_24763_09, dval_24763_08"
   ]
  },
  {
   "cell_type": "code",
   "execution_count": null,
   "metadata": {
    "ExecuteTime": {
     "end_time": "2021-03-14T05:32:40.505711Z",
     "start_time": "2021-03-14T05:32:40.356314Z"
    },
    "hidden": true
   },
   "outputs": [],
   "source": [
    "with shelve.open(r'bbl.out') as ws:\n",
    "    ws['dval_24763'] = dval_24763 # store raw results\n",
    "    for n in range(4):\n",
    "        for i in range(3):\n",
    "            dval_24763[:,i,n] = np.multiply(dval_24763[:,i,n],painel.loc[(painel.REGISTRO_COMPLEXO == 24763), 'beta'].values)\n",
    "    ws['beta_dval_24763'] = dval_24763 # store discounted res"
   ]
  },
  {
   "cell_type": "markdown",
   "metadata": {
    "heading_collapsed": true,
    "hidden": true
   },
   "source": [
    "##### ID: 30155"
   ]
  },
  {
   "cell_type": "code",
   "execution_count": null,
   "metadata": {
    "ExecuteTime": {
     "end_time": "2021-03-14T05:32:38.682835Z",
     "start_time": "2021-03-14T01:22:22.330190Z"
    },
    "hidden": true
   },
   "outputs": [],
   "source": [
    "from joblib import Parallel, delayed # parallel processing with joblib\n",
    "\n",
    "func = bbl.distval\n",
    "\n",
    "c = 30155 # movie theater id\n",
    "\n",
    "wfs = [0.1, 0.2, -0.1, -0.2] # weighting factors used to distort probabilities for Brazilian movies\n",
    "\n",
    "pc_np = painel[painel.REGISTRO_COMPLEXO == c][['cump_frac','DIA_abs','SEMANA_CINEMATOGRAFICA']].to_numpy() # here we simulate each movie theater, so we get the panel data each time\n",
    "\n",
    "dval_30155_11, dval_30155_12, dval_30155_09, dval_30155_08 = Parallel(n_jobs = 4, backend='multiprocessing')(delayed(func)(c, 30, compobs.loc[c], pc_np, np_obras, i, d) for i in wfs)"
   ]
  },
  {
   "cell_type": "code",
   "execution_count": null,
   "metadata": {
    "ExecuteTime": {
     "end_time": "2021-03-14T05:32:39.610332Z",
     "start_time": "2021-03-14T05:32:39.602308Z"
    },
    "hidden": true
   },
   "outputs": [],
   "source": [
    "dval_30155 = np.zeros(shape=(dval_30155_11.shape[0], dval_30155_11.shape[1], 4)) # create ndarray to store results\n",
    "\n",
    "# and store\n",
    "dval_30155[:,:,0], dval_30155[:,:,1], dval_30155[:,:,2], dval_30155[:,:,3] = dval_30155_11, dval_30155_12, dval_30155_09, dval_30155_08"
   ]
  },
  {
   "cell_type": "code",
   "execution_count": null,
   "metadata": {
    "ExecuteTime": {
     "end_time": "2021-03-14T05:32:40.505711Z",
     "start_time": "2021-03-14T05:32:40.356314Z"
    },
    "hidden": true
   },
   "outputs": [],
   "source": [
    "with shelve.open(r'bbl.out') as ws:\n",
    "    ws['dval_6586'] = dval_6586 # store raw results\n",
    "    for n in range(4):\n",
    "        for i in range(3):\n",
    "            dval_6586[:,i,n] = np.multiply(dval_6586[:,i,n],painel.loc[(painel.REGISTRO_COMPLEXO == 6586), 'beta'].values)\n",
    "    ws['beta_dval_6586'] = dval_6586 # store discounted res"
   ]
  },
  {
   "cell_type": "markdown",
   "metadata": {
    "heading_collapsed": true,
    "hidden": true
   },
   "source": [
    "##### ID: 30352"
   ]
  },
  {
   "cell_type": "code",
   "execution_count": null,
   "metadata": {
    "ExecuteTime": {
     "end_time": "2021-03-14T05:32:38.682835Z",
     "start_time": "2021-03-14T01:22:22.330190Z"
    },
    "hidden": true
   },
   "outputs": [],
   "source": [
    "from joblib import Parallel, delayed # parallel processing with joblib\n",
    "\n",
    "func = bbl.distval\n",
    "\n",
    "c = 30352 # movie theater id\n",
    "\n",
    "wfs = [0.1, 0.2, -0.1, -0.2] # weighting factors used to distort probabilities for Brazilian movies\n",
    "\n",
    "pc_np = painel[painel.REGISTRO_COMPLEXO == c][['cump_frac','DIA_abs','SEMANA_CINEMATOGRAFICA']].to_numpy() # here we simulate each movie theater, so we get the panel data each time\n",
    "\n",
    "dval_30352_11, dval_30352_12, dval_30352_09, dval_30352_08 = Parallel(n_jobs = 4, backend='multiprocessing')(delayed(func)(c, 30, compobs.loc[c], pc_np, np_obras, i, d) for i in wfs)"
   ]
  },
  {
   "cell_type": "code",
   "execution_count": null,
   "metadata": {
    "ExecuteTime": {
     "end_time": "2021-03-14T05:32:39.610332Z",
     "start_time": "2021-03-14T05:32:39.602308Z"
    },
    "hidden": true
   },
   "outputs": [],
   "source": [
    "dval_30352 = np.zeros(shape=(dval_30352_11.shape[0], dval_30352_11.shape[1], 4)) # create ndarray to store results\n",
    "\n",
    "# and store\n",
    "dval_30352[:,:,0], dval_30352[:,:,1], dval_30352[:,:,2], dval_30352[:,:,3] = dval_30352_11, dval_30352_12, dval_30352_09, dval_30352_08"
   ]
  },
  {
   "cell_type": "code",
   "execution_count": null,
   "metadata": {
    "ExecuteTime": {
     "end_time": "2021-03-14T05:32:40.505711Z",
     "start_time": "2021-03-14T05:32:40.356314Z"
    },
    "hidden": true
   },
   "outputs": [],
   "source": [
    "with shelve.open(r'bbl.out') as ws:\n",
    "    ws['dval_30352'] = dval_30352 # store raw results\n",
    "    for n in range(4):\n",
    "        for i in range(3):\n",
    "            dval_30352[:,i,n] = np.multiply(dval_30352[:,i,n],painel.loc[(painel.REGISTRO_COMPLEXO == 30352), 'beta'].values)\n",
    "    ws['beta_dval_30352'] = dval_30352 # store discounted res"
   ]
  },
  {
   "cell_type": "markdown",
   "metadata": {
    "heading_collapsed": true,
    "hidden": true
   },
   "source": [
    "#### Distval noise"
   ]
  },
  {
   "cell_type": "code",
   "execution_count": null,
   "metadata": {
    "hidden": true
   },
   "outputs": [],
   "source": [
    "from joblib import Parallel, delayed\n",
    "\n",
    "func = bbl.distval_noise # we can run these a couple of times to get more estimates\n",
    "\n",
    "dval_899, dval_2616, dval_6586, dval_24763, dval_30155, dval_30352 = Parallel(\n",
    "    n_jobs = 4, backend='multiprocessing')(delayed(func)(c, 20, o, p, np_obras, d) for c, o, p in zipped) "
   ]
  },
  {
   "cell_type": "code",
   "execution_count": null,
   "metadata": {
    "ExecuteTime": {
     "end_time": "2021-03-14T23:47:22.069175Z",
     "start_time": "2021-03-14T23:47:21.271342Z"
    },
    "hidden": true
   },
   "outputs": [],
   "source": [
    "# multiplying by betas\n",
    "\n",
    "for c in c_list:\n",
    "    for i in range(3):\n",
    "        dval_899[:,i] = np.multiply(dval_899[:,i], painel.loc[(painel.REGISTRO_COMPLEXO == 899), 'beta'].values)\n",
    "        dval_2616[:,i] = np.multiply(dval_2616[:,i], painel.loc[(painel.REGISTRO_COMPLEXO == 2616), 'beta'].values)\n",
    "        dval_6586[:,i] = np.multiply(dval_6586[:,i], painel.loc[(painel.REGISTRO_COMPLEXO == 6586), 'beta'].values)\n",
    "        dval_24763[:,i] = np.multiply(dval_24763[:,i], painel.loc[(painel.REGISTRO_COMPLEXO == 24763), 'beta'].values)\n",
    "        dval_30155[:,i] = np.multiply(dval_30155[:,i], painel.loc[(painel.REGISTRO_COMPLEXO == 30155), 'beta'].values)\n",
    "        dval_30352[:,i] = np.multiply(dval_30352[:,i], painel.loc[(painel.REGISTRO_COMPLEXO == 30352), 'beta'].values)"
   ]
  },
  {
   "cell_type": "code",
   "execution_count": null,
   "metadata": {
    "hidden": true
   },
   "outputs": [],
   "source": [
    "with shelve.open(r'bbl.out') as ws: # storing results\n",
    "    ws['dval_899_noise'] = dval_899\n",
    "    ws['dval_2616_noise'] = dval_2616\n",
    "    ws['dval_6586_noise'] = dval_6586\n",
    "    ws['dval_24763_noise'] = dval_24763\n",
    "    ws['dval_30155_noise'] = dval_30155 \n",
    "    ws['dval_30352_noise'] = dval_30352"
   ]
  },
  {
   "cell_type": "markdown",
   "metadata": {
    "heading_collapsed": true,
    "hidden": true
   },
   "source": [
    "### Logits"
   ]
  },
  {
   "cell_type": "markdown",
   "metadata": {
    "heading_collapsed": true,
    "hidden": true
   },
   "source": [
    "#### Distval bias"
   ]
  },
  {
   "cell_type": "markdown",
   "metadata": {
    "heading_collapsed": true,
    "hidden": true
   },
   "source": [
    "##### ID: 899"
   ]
  },
  {
   "cell_type": "code",
   "execution_count": null,
   "metadata": {
    "ExecuteTime": {
     "end_time": "2021-03-15T00:52:14.059798Z",
     "start_time": "2021-03-14T23:47:38.418356Z"
    },
    "hidden": true
   },
   "outputs": [],
   "source": [
    "from joblib import Parallel, delayed # parallel processing with joblib\n",
    "\n",
    "func = bbl.distval_logit\n",
    "\n",
    "c = 899 # movie theater id\n",
    "\n",
    "wfs = [0.1, 0.2, -0.1, -0.2] # weighting factors\n",
    "\n",
    "pc_np = painel[painel.REGISTRO_COMPLEXO == c][['cump_frac','DIA_abs','SEMANA_CINEMATOGRAFICA']].to_numpy()\n",
    "\n",
    "dval_899_11, dval_899_12, dval_899_09, dval_899_08 = Parallel(n_jobs = 4, backend='multiprocessing')(delayed(func)(c, 100, compobs.loc[c], pc_np, np_obras, i, logits, cols) for i in wfs)"
   ]
  },
  {
   "cell_type": "code",
   "execution_count": null,
   "metadata": {
    "ExecuteTime": {
     "end_time": "2021-03-15T00:52:14.745021Z",
     "start_time": "2021-03-15T00:52:14.739006Z"
    },
    "hidden": true
   },
   "outputs": [],
   "source": [
    "dval_899 = np.zeros(shape=(dval_899_11.shape[0], dval_899_11.shape[1], 4)) # create array to store results\n",
    "\n",
    "# and store\n",
    "dval_899[:,:,0], dval_899[:,:,1], dval_899[:,:,2], dval_899[:,:,3] = dval_899_11, dval_899_12, dval_899_09, dval_899_08"
   ]
  },
  {
   "cell_type": "code",
   "execution_count": null,
   "metadata": {
    "ExecuteTime": {
     "end_time": "2021-03-15T00:52:15.521193Z",
     "start_time": "2021-03-15T00:52:15.404306Z"
    },
    "hidden": true
   },
   "outputs": [],
   "source": [
    "with shelve.open(r'bbl.out') as ws:\n",
    "    ws['logit_dval_899'] = dval_899 # storing raw logit results\n",
    "    for n in range(4):\n",
    "        for i in range(3):\n",
    "            dval_899[:,i,n] = np.multiply(dval_899[:,i,n],painel.loc[(painel.REGISTRO_COMPLEXO == 899), 'beta'].values)\n",
    "    ws['logit_beta_dval_899'] = dval_899 # storing discounted results"
   ]
  },
  {
   "cell_type": "markdown",
   "metadata": {
    "heading_collapsed": true,
    "hidden": true
   },
   "source": [
    "##### ID: 2616"
   ]
  },
  {
   "cell_type": "code",
   "execution_count": null,
   "metadata": {
    "ExecuteTime": {
     "end_time": "2021-03-15T00:52:14.059798Z",
     "start_time": "2021-03-14T23:47:38.418356Z"
    },
    "hidden": true
   },
   "outputs": [],
   "source": [
    "from joblib import Parallel, delayed # parallel processing with joblib\n",
    "\n",
    "func = bbl.distval_logit\n",
    "\n",
    "c = 2616 # movie theater id\n",
    "\n",
    "wfs = [0.1, 0.2, -0.1, -0.2] # weighting factors\n",
    "\n",
    "pc_np = painel[painel.REGISTRO_COMPLEXO == c][['cump_frac','DIA_abs','SEMANA_CINEMATOGRAFICA']].to_numpy()\n",
    "\n",
    "dval_2616_11, dval_2616_12, dval_2616_09, dval_2616_08 = Parallel(n_jobs = 4, backend='multiprocessing')(delayed(func)(c, 100, compobs.loc[c], pc_np, np_obras, i, logits, cols) for i in wfs)"
   ]
  },
  {
   "cell_type": "code",
   "execution_count": null,
   "metadata": {
    "ExecuteTime": {
     "end_time": "2021-03-15T00:52:14.745021Z",
     "start_time": "2021-03-15T00:52:14.739006Z"
    },
    "hidden": true
   },
   "outputs": [],
   "source": [
    "dval_2616 = np.zeros(shape=(dval_2616_11.shape[0], dval_2616_11.shape[1], 4)) # create array to store results\n",
    "\n",
    "# and store\n",
    "dval_2616[:,:,0], dval_2616[:,:,1], dval_2616[:,:,2], dval_2616[:,:,3] = dval_2616_11, dval_2616_12, dval_2616_09, dval_2616_08"
   ]
  },
  {
   "cell_type": "code",
   "execution_count": null,
   "metadata": {
    "ExecuteTime": {
     "end_time": "2021-03-15T00:52:15.521193Z",
     "start_time": "2021-03-15T00:52:15.404306Z"
    },
    "hidden": true
   },
   "outputs": [],
   "source": [
    "with shelve.open(r'bbl.out') as ws:\n",
    "    ws['logit_dval_2616'] = dval_2616 # storing raw logit results\n",
    "    for n in range(4):\n",
    "        for i in range(3):\n",
    "            dval_2616[:,i,n] = np.multiply(dval_2616[:,i,n],painel.loc[(painel.REGISTRO_COMPLEXO == 2616), 'beta'].values)\n",
    "    ws['logit_beta_dval_2616'] = dval_2616 # storing discounted results"
   ]
  },
  {
   "cell_type": "markdown",
   "metadata": {
    "heading_collapsed": true,
    "hidden": true
   },
   "source": [
    "##### ID: 6586"
   ]
  },
  {
   "cell_type": "code",
   "execution_count": null,
   "metadata": {
    "ExecuteTime": {
     "end_time": "2021-03-15T00:52:14.059798Z",
     "start_time": "2021-03-14T23:47:38.418356Z"
    },
    "hidden": true
   },
   "outputs": [],
   "source": [
    "from joblib import Parallel, delayed # parallel processing with joblib\n",
    "\n",
    "func = bbl.distval_logit\n",
    "\n",
    "c = 6586 # movie theater id\n",
    "\n",
    "wfs = [0.1, 0.2, -0.1, -0.2] # weighting factors\n",
    "\n",
    "pc_np = painel[painel.REGISTRO_COMPLEXO == c][['cump_frac','DIA_abs','SEMANA_CINEMATOGRAFICA']].to_numpy()\n",
    "\n",
    "dval_6586_11, dval_6586_12, dval_6586_09, dval_6586_08 = Parallel(n_jobs = 4, backend='multiprocessing')(delayed(func)(c, 100, compobs.loc[c], pc_np, np_obras, i, logits, cols) for i in wfs)"
   ]
  },
  {
   "cell_type": "code",
   "execution_count": null,
   "metadata": {
    "ExecuteTime": {
     "end_time": "2021-03-15T00:52:14.745021Z",
     "start_time": "2021-03-15T00:52:14.739006Z"
    },
    "hidden": true
   },
   "outputs": [],
   "source": [
    "dval_6586 = np.zeros(shape=(dval_6586_11.shape[0], dval_6586_11.shape[1], 4)) # create array to store results\n",
    "\n",
    "# and store\n",
    "dval_6586[:,:,0], dval_6586[:,:,1], dval_6586[:,:,2], dval_6586[:,:,3] = dval_6586_11, dval_6586_12, dval_6586_09, dval_6586_08"
   ]
  },
  {
   "cell_type": "code",
   "execution_count": null,
   "metadata": {
    "ExecuteTime": {
     "end_time": "2021-03-15T00:52:15.521193Z",
     "start_time": "2021-03-15T00:52:15.404306Z"
    },
    "hidden": true
   },
   "outputs": [],
   "source": [
    "with shelve.open(r'bbl.out') as ws:\n",
    "    ws['logit_dval_6586'] = dval_6586 # storing raw logit results\n",
    "    for n in range(4):\n",
    "        for i in range(3):\n",
    "            dval_6586[:,i,n] = np.multiply(dval_6586[:,i,n],painel.loc[(painel.REGISTRO_COMPLEXO == 6586), 'beta'].values)\n",
    "    ws['logit_beta_dval_6586'] = dval_6586 # storing discounted results"
   ]
  },
  {
   "cell_type": "markdown",
   "metadata": {
    "heading_collapsed": true,
    "hidden": true
   },
   "source": [
    "##### ID: 24763"
   ]
  },
  {
   "cell_type": "code",
   "execution_count": null,
   "metadata": {
    "ExecuteTime": {
     "end_time": "2021-03-15T00:52:14.059798Z",
     "start_time": "2021-03-14T23:47:38.418356Z"
    },
    "hidden": true
   },
   "outputs": [],
   "source": [
    "from joblib import Parallel, delayed # parallel processing with joblib\n",
    "\n",
    "func = bbl.distval_logit\n",
    "\n",
    "c = 24763 # movie theater id\n",
    "\n",
    "wfs = [0.1, 0.2, -0.1, -0.2] # weighting factors\n",
    "\n",
    "pc_np = painel[painel.REGISTRO_COMPLEXO == c][['cump_frac','DIA_abs','SEMANA_CINEMATOGRAFICA']].to_numpy()\n",
    "\n",
    "dval_24763_11, dval_24763_12, dval_24763_09, dval_24763_08 = Parallel(n_jobs = 4, backend='multiprocessing')(delayed(func)(c, 100, compobs.loc[c], pc_np, np_obras, i, logits, cols) for i in wfs)"
   ]
  },
  {
   "cell_type": "code",
   "execution_count": null,
   "metadata": {
    "ExecuteTime": {
     "end_time": "2021-03-15T00:52:14.745021Z",
     "start_time": "2021-03-15T00:52:14.739006Z"
    },
    "hidden": true
   },
   "outputs": [],
   "source": [
    "dval_24763 = np.zeros(shape=(dval_24763_11.shape[0], dval_24763_11.shape[1], 4)) # create array to store results\n",
    "\n",
    "# and store\n",
    "dval_24763[:,:,0], dval_24763[:,:,1], dval_24763[:,:,2], dval_24763[:,:,3] = dval_24763_11, dval_24763_12, dval_24763_09, dval_24763_08"
   ]
  },
  {
   "cell_type": "code",
   "execution_count": null,
   "metadata": {
    "ExecuteTime": {
     "end_time": "2021-03-15T00:52:15.521193Z",
     "start_time": "2021-03-15T00:52:15.404306Z"
    },
    "hidden": true
   },
   "outputs": [],
   "source": [
    "with shelve.open(r'bbl.out') as ws:\n",
    "    ws['logit_dval_24763'] = dval_24763 # storing raw logit results\n",
    "    for n in range(4):\n",
    "        for i in range(3):\n",
    "            dval_24763[:,i,n] = np.multiply(dval_24763[:,i,n],painel.loc[(painel.REGISTRO_COMPLEXO == 24763), 'beta'].values)\n",
    "    ws['logit_beta_dval_24763'] = dval_24763 # storing discounted results"
   ]
  },
  {
   "cell_type": "markdown",
   "metadata": {
    "heading_collapsed": true,
    "hidden": true
   },
   "source": [
    "##### ID: 30155"
   ]
  },
  {
   "cell_type": "code",
   "execution_count": null,
   "metadata": {
    "ExecuteTime": {
     "end_time": "2021-03-15T00:52:14.059798Z",
     "start_time": "2021-03-14T23:47:38.418356Z"
    },
    "hidden": true
   },
   "outputs": [],
   "source": [
    "from joblib import Parallel, delayed # parallel processing with joblib\n",
    "\n",
    "func = bbl.distval_logit\n",
    "\n",
    "c = 30155 # movie theater id\n",
    "\n",
    "wfs = [0.1, 0.2, -0.1, -0.2] # weighting factors\n",
    "\n",
    "pc_np = painel[painel.REGISTRO_COMPLEXO == c][['cump_frac','DIA_abs','SEMANA_CINEMATOGRAFICA']].to_numpy()\n",
    "\n",
    "dval_30155_11, dval_30155_12, dval_30155_09, dval_30155_08 = Parallel(n_jobs = 4, backend='multiprocessing')(delayed(func)(c, 100, compobs.loc[c], pc_np, np_obras, i, logits, cols) for i in wfs)"
   ]
  },
  {
   "cell_type": "code",
   "execution_count": null,
   "metadata": {
    "ExecuteTime": {
     "end_time": "2021-03-15T00:52:14.745021Z",
     "start_time": "2021-03-15T00:52:14.739006Z"
    },
    "hidden": true
   },
   "outputs": [],
   "source": [
    "dval_30155 = np.zeros(shape=(dval_30155_11.shape[0], dval_30155_11.shape[1], 4)) # create array to store results\n",
    "\n",
    "# and store\n",
    "dval_30155[:,:,0], dval_30155[:,:,1], dval_30155[:,:,2], dval_30155[:,:,3] = dval_30155_11, dval_30155_12, dval_30155_09, dval_30155_08"
   ]
  },
  {
   "cell_type": "code",
   "execution_count": null,
   "metadata": {
    "ExecuteTime": {
     "end_time": "2021-03-15T00:52:15.521193Z",
     "start_time": "2021-03-15T00:52:15.404306Z"
    },
    "hidden": true
   },
   "outputs": [],
   "source": [
    "with shelve.open(r'bbl.out') as ws:\n",
    "    ws['logit_dval_30155'] = dval_30155 # storing raw logit results\n",
    "    for n in range(4):\n",
    "        for i in range(3):\n",
    "            dval_30155[:,i,n] = np.multiply(dval_30155[:,i,n],painel.loc[(painel.REGISTRO_COMPLEXO == 30155), 'beta'].values)\n",
    "    ws['logit_beta_dval_30155'] = dval_30155 # storing discounted results"
   ]
  },
  {
   "cell_type": "markdown",
   "metadata": {
    "heading_collapsed": true,
    "hidden": true
   },
   "source": [
    "##### ID: 30352"
   ]
  },
  {
   "cell_type": "code",
   "execution_count": null,
   "metadata": {
    "ExecuteTime": {
     "end_time": "2021-03-15T00:52:14.059798Z",
     "start_time": "2021-03-14T23:47:38.418356Z"
    },
    "hidden": true
   },
   "outputs": [],
   "source": [
    "from joblib import Parallel, delayed # parallel processing with joblib\n",
    "\n",
    "func = bbl.distval_logit\n",
    "\n",
    "c = 30352 # movie theater id\n",
    "\n",
    "wfs = [0.1, 0.2, -0.1, -0.2] # weighting factors\n",
    "\n",
    "pc_np = painel[painel.REGISTRO_COMPLEXO == c][['cump_frac','DIA_abs','SEMANA_CINEMATOGRAFICA']].to_numpy()\n",
    "\n",
    "dval_30352_11, dval_30352_12, dval_30352_09, dval_30352_08 = Parallel(n_jobs = 4, backend='multiprocessing')(delayed(func)(c, 100, compobs.loc[c], pc_np, np_obras, i, logits, cols) for i in wfs)"
   ]
  },
  {
   "cell_type": "code",
   "execution_count": null,
   "metadata": {
    "ExecuteTime": {
     "end_time": "2021-03-15T00:52:14.745021Z",
     "start_time": "2021-03-15T00:52:14.739006Z"
    },
    "hidden": true
   },
   "outputs": [],
   "source": [
    "dval_30352 = np.zeros(shape=(dval_30352_11.shape[0], dval_30352_11.shape[1], 4)) # create array to store results\n",
    "\n",
    "# and store\n",
    "dval_30352[:,:,0], dval_30352[:,:,1], dval_30352[:,:,2], dval_30352[:,:,3] = dval_30352_11, dval_30352_12, dval_30352_09, dval_30352_08"
   ]
  },
  {
   "cell_type": "code",
   "execution_count": null,
   "metadata": {
    "ExecuteTime": {
     "end_time": "2021-03-15T00:52:15.521193Z",
     "start_time": "2021-03-15T00:52:15.404306Z"
    },
    "hidden": true
   },
   "outputs": [],
   "source": [
    "with shelve.open(r'bbl.out') as ws:\n",
    "    ws['logit_dval_30352'] = dval_30352 # storing raw logit results\n",
    "    for n in range(4):\n",
    "        for i in range(3):\n",
    "            dval_30352[:,i,n] = np.multiply(dval_30352[:,i,n],painel.loc[(painel.REGISTRO_COMPLEXO == 30352), 'beta'].values)\n",
    "    ws['logit_beta_dval_30352'] = dval_30352 # storing discounted results"
   ]
  },
  {
   "cell_type": "markdown",
   "metadata": {
    "heading_collapsed": true,
    "hidden": true
   },
   "source": [
    "#### Distval noise"
   ]
  },
  {
   "cell_type": "code",
   "execution_count": null,
   "metadata": {
    "ExecuteTime": {
     "end_time": "2021-03-14T23:30:59.983294Z",
     "start_time": "2021-03-14T23:25:43.055311Z"
    },
    "hidden": true
   },
   "outputs": [],
   "source": [
    "from joblib import Parallel, delayed\n",
    "\n",
    "func = bbl.distval_noise_logit\n",
    "\n",
    "dval_899, dval_2616, dval_6586, dval_24763, dval_30155, dval_30352 = Parallel(\n",
    "    n_jobs = 6, backend='multiprocessing')(delayed(func)(c, 5, o, p, np_obras, logits, cols) for c, o, p in zipped)"
   ]
  },
  {
   "cell_type": "code",
   "execution_count": null,
   "metadata": {
    "ExecuteTime": {
     "end_time": "2021-03-14T23:47:22.069175Z",
     "start_time": "2021-03-14T23:47:21.271342Z"
    },
    "hidden": true
   },
   "outputs": [],
   "source": [
    "\n",
    "for c in c_list: # multiplying by betas\n",
    "    for i in range(3):\n",
    "        dval_899[:,i] = np.multiply(dval_899[:,i], painel.loc[(painel.REGISTRO_COMPLEXO == 899), 'beta'].values)\n",
    "        dval_2616[:,i] = np.multiply(dval_2616[:,i], painel.loc[(painel.REGISTRO_COMPLEXO == 2616), 'beta'].values)\n",
    "        dval_6586[:,i] = np.multiply(dval_6586[:,i], painel.loc[(painel.REGISTRO_COMPLEXO == 6586), 'beta'].values)\n",
    "        dval_24763[:,i] = np.multiply(dval_24763[:,i], painel.loc[(painel.REGISTRO_COMPLEXO == 24763), 'beta'].values)\n",
    "        dval_30155[:,i] = np.multiply(dval_30155[:,i], painel.loc[(painel.REGISTRO_COMPLEXO == 30155), 'beta'].values)\n",
    "        dval_30352[:,i] = np.multiply(dval_30352[:,i], painel.loc[(painel.REGISTRO_COMPLEXO == 30352), 'beta'].values)"
   ]
  },
  {
   "cell_type": "code",
   "execution_count": null,
   "metadata": {
    "ExecuteTime": {
     "end_time": "2021-03-14T23:47:25.310265Z",
     "start_time": "2021-03-14T23:47:25.291215Z"
    },
    "hidden": true
   },
   "outputs": [],
   "source": [
    "with shelve.open(r'bbl.out') as ws: # and storing\n",
    "    ws['logit_dval_899_noise'] = dval_899\n",
    "    ws['logit_dval_2616_noise'] = dval_2616\n",
    "    ws['logit_dval_6586_noise'] = dval_6586\n",
    "    ws['logit_dval_24763_noise'] = dval_24763\n",
    "    ws['logit_dval_30155_noise'] = dval_30155 \n",
    "    ws['logit_dval_30352_noise'] = dval_30352"
   ]
  },
  {
   "cell_type": "markdown",
   "metadata": {
    "heading_collapsed": true
   },
   "source": [
    "# Compiling result arrays for each movie theater"
   ]
  },
  {
   "cell_type": "code",
   "execution_count": null,
   "metadata": {
    "ExecuteTime": {
     "end_time": "2021-03-15T04:41:35.325095Z",
     "start_time": "2021-03-15T04:41:35.220817Z"
    },
    "hidden": true
   },
   "outputs": [],
   "source": [
    "c_list = list(painel.query(\"SALAS_COMP == 12\").REGISTRO_COMPLEXO.unique()) # same as in section 3.2"
   ]
  },
  {
   "cell_type": "markdown",
   "metadata": {
    "heading_collapsed": true,
    "hidden": true
   },
   "source": [
    "## KDE results"
   ]
  },
  {
   "cell_type": "code",
   "execution_count": null,
   "metadata": {
    "ExecuteTime": {
     "end_time": "2021-03-14T16:57:56.141956Z",
     "start_time": "2021-03-14T16:57:56.013622Z"
    },
    "hidden": true
   },
   "outputs": [],
   "source": [
    "with shelve.open(r'bbl.out') as ws:\n",
    "    for c in c_list:\n",
    "        cval_orig = ws[f'cval_{c}'] # getting cval for each id\n",
    "        dval_orig = ws[f'beta_dval_{c}'] # getting bias distvals\n",
    "        noise = ws[f'dval_{c}_noise'] # getting noisy distvals\n",
    "        matrix = np.zeros((dval_orig.shape[0], dval_orig.shape[1], dval_orig.shape[2]+2)) # creating array to accomodate all\n",
    "        matrix[:,:,0] = cval_orig # store orig in pos 0\n",
    "        matrix[:,:,1:dval_orig.shape[2]+1] = dval_orig # dvals in between\n",
    "        matrix[:,:,-1] = noise # noise for last\n",
    "        ws[f'{c}_completo2'] = matrix # store complete results"
   ]
  },
  {
   "cell_type": "markdown",
   "metadata": {
    "heading_collapsed": true,
    "hidden": true
   },
   "source": [
    "## Logit results"
   ]
  },
  {
   "cell_type": "code",
   "execution_count": null,
   "metadata": {
    "ExecuteTime": {
     "end_time": "2021-03-15T04:41:38.032578Z",
     "start_time": "2021-03-15T04:41:37.938348Z"
    },
    "hidden": true
   },
   "outputs": [],
   "source": [
    "with shelve.open(r'bbl.out') as ws: \n",
    "    for c in c_list: # see 4.1 above\n",
    "        cval_orig = ws[f'logit_cval_{c}']\n",
    "        dval_orig = ws[f'logit_beta_dval_{c}']\n",
    "        noise = ws[f'logit_dval_{c}_noise']\n",
    "        matrix = np.zeros((dval_orig.shape[0], dval_orig.shape[1], dval_orig.shape[2]+2))\n",
    "        matrix[:,:,0] = cval_orig\n",
    "        matrix[:,:,1:dval_orig.shape[2]+1] = dval_orig\n",
    "        matrix[:,:,-1] = noise\n",
    "        ws[f'{c}_completo_logit'] = matrix"
   ]
  }
 ],
 "metadata": {
  "kernelspec": {
   "display_name": "Python 3",
   "language": "python",
   "name": "python3"
  },
  "language_info": {
   "codemirror_mode": {
    "name": "ipython",
    "version": 3
   },
   "file_extension": ".py",
   "mimetype": "text/x-python",
   "name": "python",
   "nbconvert_exporter": "python",
   "pygments_lexer": "ipython3",
   "version": "3.8.5"
  },
  "toc": {
   "base_numbering": 1,
   "nav_menu": {},
   "number_sections": true,
   "sideBar": true,
   "skip_h1_title": false,
   "title_cell": "Table of Contents",
   "title_sidebar": "Contents",
   "toc_cell": false,
   "toc_position": {},
   "toc_section_display": true,
   "toc_window_display": false
  },
  "varInspector": {
   "cols": {
    "lenName": 16,
    "lenType": 16,
    "lenVar": 40
   },
   "kernels_config": {
    "python": {
     "delete_cmd_postfix": "",
     "delete_cmd_prefix": "del ",
     "library": "var_list.py",
     "varRefreshCmd": "print(var_dic_list())"
    },
    "r": {
     "delete_cmd_postfix": ") ",
     "delete_cmd_prefix": "rm(",
     "library": "var_list.r",
     "varRefreshCmd": "cat(var_dic_list()) "
    }
   },
   "oldHeight": 217,
   "position": {
    "height": "239px",
    "left": "1036px",
    "right": "20px",
    "top": "94px",
    "width": "356px"
   },
   "types_to_exclude": [
    "module",
    "function",
    "builtin_function_or_method",
    "instance",
    "_Feature"
   ],
   "varInspector_section_display": "block",
   "window_display": false
  }
 },
 "nbformat": 4,
 "nbformat_minor": 4
}
